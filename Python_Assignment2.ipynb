{
  "nbformat": 4,
  "nbformat_minor": 0,
  "metadata": {
    "colab": {
      "name": "Python_Assignment2.ipynb",
      "provenance": []
    },
    "kernelspec": {
      "name": "python3",
      "display_name": "Python 3"
    },
    "language_info": {
      "name": "python"
    }
  },
  "cells": [
    {
      "cell_type": "code",
      "execution_count": 6,
      "metadata": {
        "colab": {
          "base_uri": "https://localhost:8080/"
        },
        "id": "U-W0i6IdrdPc",
        "outputId": "f254be8a-bee2-4ff7-b074-1e5076fe5988"
      },
      "outputs": [
        {
          "output_type": "stream",
          "name": "stdout",
          "text": [
            "*\n",
            "**\n",
            "***\n",
            "****\n",
            "*****\n",
            "****\n",
            "***\n",
            "**\n",
            "*\n"
          ]
        }
      ],
      "source": [
        "for i in range(1,6):\n",
        "  \n",
        "  print(\"*\"*i)\n",
        "for i in range(4,0,-1):\n",
        "  print(\"*\"*i)"
      ]
    },
    {
      "cell_type": "code",
      "source": [
        "s=input()\n",
        "s=s[::-1]\n",
        "print(s)"
      ],
      "metadata": {
        "colab": {
          "base_uri": "https://localhost:8080/"
        },
        "id": "a_g_kJsGsueN",
        "outputId": "982d6a00-7896-4b78-906c-bb205ab31889"
      },
      "execution_count": 7,
      "outputs": [
        {
          "output_type": "stream",
          "name": "stdout",
          "text": [
            "iNeuron\n",
            "norueNi\n"
          ]
        }
      ]
    }
  ]
}